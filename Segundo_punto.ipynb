{
 "cells": [
  {
   "cell_type": "code",
   "execution_count": 2,
   "metadata": {},
   "outputs": [
    {
     "name": "stdout",
     "output_type": "stream",
     "text": [
      "Collecting python-tsp\n",
      "  Downloading python_tsp-0.5.0-py3-none-any.whl (26 kB)\n",
      "Requirement already satisfied: numpy<3.0.0,>=2.0.0 in c:\\users\\delva\\appdata\\local\\programs\\python\\python310\\lib\\site-packages (from python-tsp) (2.1.0)\n",
      "Collecting requests<3.0.0,>=2.28.0\n",
      "  Downloading requests-2.32.3-py3-none-any.whl (64 kB)\n",
      "     ---------------------------------------- 64.9/64.9 KB 3.4 MB/s eta 0:00:00\n",
      "Collecting tsplib95<0.8.0,>=0.7.1\n",
      "  Downloading tsplib95-0.7.1-py2.py3-none-any.whl (25 kB)\n",
      "Collecting urllib3<3,>=1.21.1\n",
      "  Downloading urllib3-2.2.3-py3-none-any.whl (126 kB)\n",
      "     -------------------------------------- 126.3/126.3 KB 7.7 MB/s eta 0:00:00\n",
      "Collecting idna<4,>=2.5\n",
      "  Downloading idna-3.10-py3-none-any.whl (70 kB)\n",
      "     ---------------------------------------- 70.4/70.4 KB 4.0 MB/s eta 0:00:00\n",
      "Collecting charset-normalizer<4,>=2\n",
      "  Downloading charset_normalizer-3.3.2-cp310-cp310-win_amd64.whl (100 kB)\n",
      "     -------------------------------------- 100.3/100.3 KB 2.8 MB/s eta 0:00:00\n",
      "Collecting certifi>=2017.4.17\n",
      "  Downloading certifi-2024.8.30-py3-none-any.whl (167 kB)\n",
      "     -------------------------------------- 167.3/167.3 KB 4.9 MB/s eta 0:00:00\n",
      "Collecting networkx~=2.1\n",
      "  Downloading networkx-2.8.8-py3-none-any.whl (2.0 MB)\n",
      "     ---------------------------------------- 2.0/2.0 MB 6.8 MB/s eta 0:00:00\n",
      "Collecting Deprecated~=1.2.9\n",
      "  Downloading Deprecated-1.2.14-py2.py3-none-any.whl (9.6 kB)\n",
      "Collecting tabulate~=0.8.7\n",
      "  Downloading tabulate-0.8.10-py3-none-any.whl (29 kB)\n",
      "Collecting Click>=6.0\n",
      "  Downloading click-8.1.7-py3-none-any.whl (97 kB)\n",
      "     ---------------------------------------- 97.9/97.9 KB 2.7 MB/s eta 0:00:00\n",
      "Requirement already satisfied: colorama in c:\\users\\delva\\appdata\\roaming\\python\\python310\\site-packages (from Click>=6.0->tsplib95<0.8.0,>=0.7.1->python-tsp) (0.4.6)\n",
      "Collecting wrapt<2,>=1.10\n",
      "  Downloading wrapt-1.16.0-cp310-cp310-win_amd64.whl (37 kB)\n",
      "Installing collected packages: wrapt, urllib3, tabulate, networkx, idna, Click, charset-normalizer, certifi, requests, Deprecated, tsplib95, python-tsp\n",
      "Successfully installed Click-8.1.7 Deprecated-1.2.14 certifi-2024.8.30 charset-normalizer-3.3.2 idna-3.10 networkx-2.8.8 python-tsp-0.5.0 requests-2.32.3 tabulate-0.8.10 tsplib95-0.7.1 urllib3-2.2.3 wrapt-1.16.0\n"
     ]
    },
    {
     "name": "stderr",
     "output_type": "stream",
     "text": [
      "WARNING: You are using pip version 22.0.4; however, version 24.2 is available.\n",
      "You should consider upgrading via the 'C:\\Users\\delva\\AppData\\Local\\Programs\\Python\\Python310\\python.exe -m pip install --upgrade pip' command.\n"
     ]
    }
   ],
   "source": [
    "!pip install python-tsp"
   ]
  },
  {
   "cell_type": "code",
   "execution_count": 5,
   "metadata": {},
   "outputs": [],
   "source": [
    "import pandas as pd\n",
    "from python_tsp.heuristics import solve_tsp_simulated_annealing \n",
    "import numpy as np\n",
    "import sys"
   ]
  },
  {
   "cell_type": "code",
   "execution_count": 6,
   "metadata": {},
   "outputs": [],
   "source": [
    "# Agregar directorio al path\n",
    "sys.path.append('\"C:\\\\Users\\\\delva\\\\OneDrive - Universidad de Antioquia\\\\SEMESTRE 2024-2\\\\Prueba_tecnica_HACEB\"')"
   ]
  },
  {
   "cell_type": "code",
   "execution_count": 20,
   "metadata": {},
   "outputs": [
    {
     "name": "stdout",
     "output_type": "stream",
     "text": [
      "              Medellín  Bogotá  Cali  Barranquilla  Cartagena  Bucaramanga  \\\n",
      "Medellín             0     413   413           702        656          428   \n",
      "Bogotá             413       0   464          1004       1053          398   \n",
      "Cali               413     464     0          1110       1200          817   \n",
      "Barranquilla       702    1004  1110             0        120          576   \n",
      "Cartagena          656    1053  1200           120          0          511   \n",
      "\n",
      "              Cúcuta  Manizales  Pereira  Armenia  \n",
      "Medellín         565        196      208      252  \n",
      "Bogotá           574        278      323      286  \n",
      "Cali            1103        229      208      179  \n",
      "Barranquilla     782        998      965     1023  \n",
      "Cartagena        707        938      917      974  \n"
     ]
    }
   ],
   "source": [
    "# Leer lo archivo CSV con pandas\n",
    "df = pd.read_csv('Data/distancias.csv', sep=';', index_col=0) \n",
    "print(df.head())"
   ]
  },
  {
   "cell_type": "code",
   "execution_count": 21,
   "metadata": {},
   "outputs": [],
   "source": [
    "# Convertir la matriz de costos en una lista de listas\n",
    "costos = df.values.tolist()\n",
    "ciudades = df.index.tolist()"
   ]
  },
  {
   "cell_type": "code",
   "execution_count": 22,
   "metadata": {},
   "outputs": [
    {
     "name": "stdout",
     "output_type": "stream",
     "text": [
      "Costo total mínimo del recorrido: 3022\n",
      "Ruta óptima: Medellín -> Manizales -> Pereira -> Cali -> Armenia -> Bogotá -> Cúcuta -> Bucaramanga -> Cartagena -> Barranquilla -> Medellín\n"
     ]
    }
   ],
   "source": [
    "# Resolver\n",
    "    # Convertir 'costos' to a NumPy array\n",
    "    costos_np = np.array(costos)\n",
    "\n",
    "    # Usar recocido simulado en lugar de búsqueda local\n",
    "    ruta, costo_total = solve_tsp_simulated_annealing(costos_np)\n",
    "\n",
    "    # Mostrar resultados\n",
    "    print(f\"Costo total mínimo del recorrido: {costo_total}\")\n",
    "\n",
    "    # Imprimir la ruta óptima\n",
    "    ruta_ciudades = [ciudades[i] for i in ruta]\n",
    "    plan_output = ' -> '.join(ruta_ciudades + [ciudades[ruta[0]]])  # Ruta completa, regresando a la ciudad inicial\n",
    "    print(f\"Ruta óptima: {plan_output}\")\n",
    "\n",
    "# 4. Ejecutar la solución\n",
    "solve_tsp()"
   ]
  }
 ],
 "metadata": {
  "kernelspec": {
   "display_name": "Python 3",
   "language": "python",
   "name": "python3"
  },
  "language_info": {
   "codemirror_mode": {
    "name": "ipython",
    "version": 3
   },
   "file_extension": ".py",
   "mimetype": "text/x-python",
   "name": "python",
   "nbconvert_exporter": "python",
   "pygments_lexer": "ipython3",
   "version": "3.10.4"
  }
 },
 "nbformat": 4,
 "nbformat_minor": 2
}
