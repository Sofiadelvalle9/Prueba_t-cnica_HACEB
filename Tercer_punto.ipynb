{
 "cells": [
  {
   "cell_type": "code",
   "execution_count": 5,
   "metadata": {},
   "outputs": [
    {
     "name": "stdout",
     "output_type": "stream",
     "text": [
      "    1\n",
      "   222\n",
      "  33333\n",
      " 4444444\n",
      "555555555\n",
      " 4444444\n",
      "  33333\n",
      "   222\n",
      "    1\n"
     ]
    }
   ],
   "source": [
    "def generar_rombo(filas):\n",
    "    rombo = []\n",
    "    \n",
    "    # Generar la parte ascendente del rombo\n",
    "    for i in range(filas):\n",
    "        numero_actual = i + 1  # El número a imprimir en la fila\n",
    "        num_elementos = 2 * i + 1  # Cantidad de elementos en la fila (1, 3, 5, 7, 9)\n",
    "        \n",
    "        # Crear la fila con el número actual\n",
    "        fila = [numero_actual] * num_elementos\n",
    "        rombo.append(fila)\n",
    "\n",
    "    # Imprimir la parte ascendente del rombo con espacios\n",
    "    for i, fila in enumerate(rombo):\n",
    "        espacios = ' ' * (filas - i - 1)  # Calcular los espacios\n",
    "        print(espacios + \"\".join(map(str, fila)))\n",
    "\n",
    "    # Imprimir la parte descendente del rombo con espacios\n",
    "    for i, fila in enumerate(reversed(rombo[:-1])):  # Excluir la última fila de la parte ascendente\n",
    "        espacios = ' ' * (filas - len(fila) // 2 - 1)  # Calcular los espacios\n",
    "        print(espacios + \"\".join(map(str, fila)))\n",
    "\n",
    "# Llamar a la función para generar un rombo con un número específico de filas\n",
    "generar_rombo(5)\n"
   ]
  }
 ],
 "metadata": {
  "kernelspec": {
   "display_name": "Python 3",
   "language": "python",
   "name": "python3"
  },
  "language_info": {
   "codemirror_mode": {
    "name": "ipython",
    "version": 3
   },
   "file_extension": ".py",
   "mimetype": "text/x-python",
   "name": "python",
   "nbconvert_exporter": "python",
   "pygments_lexer": "ipython3",
   "version": "3.10.4"
  }
 },
 "nbformat": 4,
 "nbformat_minor": 2
}
